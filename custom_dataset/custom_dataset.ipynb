{
 "cells": [
  {
   "cell_type": "markdown",
   "metadata": {},
   "source": [
    "# How to (quickly) build a deep learning image dataset\n",
    "https://www.pyimagesearch.com/2018/04/09/how-to-quickly-build-a-deep-learning-image-dataset/"
   ]
  },
  {
   "cell_type": "code",
   "execution_count": 1,
   "metadata": {},
   "outputs": [],
   "source": [
    "from requests import exceptions\n",
    "import requests\n",
    "import cv2\n",
    "import os"
   ]
  },
  {
   "cell_type": "markdown",
   "metadata": {},
   "source": [
    "## Settings"
   ]
  },
  {
   "cell_type": "code",
   "execution_count": 2,
   "metadata": {},
   "outputs": [],
   "source": [
    "query = 'paella'\n",
    "output_path = 'output/'"
   ]
  },
  {
   "cell_type": "code",
   "execution_count": 3,
   "metadata": {},
   "outputs": [],
   "source": [
    "# Set your Microsoft Cognitive Services API key along with (1) the\n",
    "# maximum number of results for a given search and (2) the group size\n",
    "# for results (maximum of 50 per request)\n",
    "API_KEY = \"XXX\"\n",
    "MAX_RESULTS = 100\n",
    "GROUP_SIZE = 50\n",
    "\n",
    "# Set the endpoint API URL\n",
    "URL = \"https://api.cognitive.microsoft.com/bing/v7.0/images/search\"\n",
    "\n",
    "# When attempting to download images from the web both the Python\n",
    "# programming language and the requests library have a number of\n",
    "# exceptions that can be thrown so let's build a list of them now\n",
    "# so we can filter on them\n",
    "EXCEPTIONS = set([IOError, FileNotFoundError,\n",
    "    exceptions.RequestException, exceptions.HTTPError,\n",
    "    exceptions.ConnectionError, exceptions.Timeout])"
   ]
  },
  {
   "cell_type": "markdown",
   "metadata": {},
   "source": [
    "## Make the search"
   ]
  },
  {
   "cell_type": "code",
   "execution_count": 4,
   "metadata": {},
   "outputs": [
    {
     "name": "stdout",
     "output_type": "stream",
     "text": [
      "Searching Bing API for 'paella'\n",
      "100 total results for 'paella'\n"
     ]
    }
   ],
   "source": [
    "# Store the search term in a convenience variable then set the\n",
    "# headers and search parameters\n",
    "term = query\n",
    "headers = {\"Ocp-Apim-Subscription-Key\" : API_KEY}\n",
    "params = {\"q\": term, \"offset\": 0, \"count\": GROUP_SIZE}\n",
    "\n",
    "# Make the search\n",
    "print(\"Searching Bing API for '{}'\".format(term))\n",
    "search = requests.get(URL, headers=headers, params=params)\n",
    "search.raise_for_status()\n",
    "\n",
    "# Grab the results from the search, including the total number of\n",
    "# estimated results returned by the Bing API\n",
    "results = search.json()\n",
    "estNumResults = min(results[\"totalEstimatedMatches\"], MAX_RESULTS)\n",
    "print(\"{} total results for '{}'\".format(estNumResults, term))"
   ]
  },
  {
   "cell_type": "code",
   "execution_count": 5,
   "metadata": {},
   "outputs": [
    {
     "name": "stdout",
     "output_type": "stream",
     "text": [
      "Making request for group 0-50 of 100...\n",
      "Saving images for group 0-50 of 100...\n",
      "Fetching: https://upload.wikimedia.org/wikipedia/commons/thumb/5/57/Homemade_Paella_with_lots_of_seafood.jpg/1200px-Homemade_Paella_with_lots_of_seafood.jpg\n",
      "Fetching: https://upload.wikimedia.org/wikipedia/commons/thumb/1/12/Paella_de_marisco_01.jpg/1200px-Paella_de_marisco_01.jpg\n",
      "Fetching: http://i.kinja-img.com/gawker-media/image/upload/s--M4OE0GV9--/851002898017268549.jpg\n",
      "Fetching: https://img1.cookinglight.timeinc.net/sites/default/files/styles/4_3_horizontal_-_1200x900/public/image/2017/03/main/shrimp-paella-1705p55.jpg?itok=KpoZxRRP\n",
      "Fetching: https://www.simplyrecipes.com/wp-content/uploads/2018/07/Seafood-Paella-LEAD-VERTICAL.jpg\n",
      "Fetching: https://o.aolcdn.com/images/dims3/GLOB/legacy_thumbnail/1200x630/format/jpg/quality/85/http%3A%2F%2Fo.aolcdn.com%2Fhss%2Fstorage%2Fmidas%2F6411f3782c0151d45f62312d57ad12ac%2F204207047%2F476864622.jpg\n",
      "Fetching: https://gbc-cdn-public-media.azureedge.net/img64614.1426x713.jpg\n",
      "Fetching: https://foodfloozie.files.wordpress.com/2012/01/paella-mlh-noflame.jpg\n",
      "Fetching: https://food.fnr.sndimg.com/content/dam/images/food/fullset/2017/8/15/0/CCTIA0301_Seafood-Paella_s4x3.jpg.rend.hgtvcom.826.620.suffix/1502826649304.jpeg\n",
      "Fetching: http://www.chowstatic.com/assets/2014/09/29656_grilled_paella_mixta.jpg\n",
      "Fetching: https://i.ytimg.com/vi/DZ-DkAtQrGo/maxresdefault.jpg\n",
      "Fetching: http://www.delicesdannie.com/blog/wp-content/uploads/2015/08/paella.png\n",
      "Fetching: https://cdn-image.myrecipes.com/sites/default/files/styles/4_3_horizontal_-_1200x900/public/1551740522/0867_180612_DuPree_MyRecipe_Traditional%20Spanish%20Paella_6996%20copy.jpg?itok=cr6GuJWO\n",
      "Fetching: https://media1.fdncms.com/orlando/imager/u/slideshow/8910001/gal_paella_shutterstock.jpg\n",
      "Fetching: http://cdn-image.myrecipes.com/sites/default/files/styles/4_3_horizontal_-_1200x900/public/image/recipes/ck/00/05/spanish-paella-mr-x.jpg?itok=9plJmxnS\n",
      "Fetching: https://www.daringgourmet.com/wp-content/uploads/2017/03/Seafood-Paella-10.jpg\n",
      "Fetching: https://blog.fuertehoteles.com/wp-content/uploads/2014/03/paella-2-compressor.jpg\n",
      "Fetching: http://www.taste.com.au/images/recipes/agt/2013/05/quick-paella-26323_l.jpeg\n",
      "Fetching: https://cmgpbpfeastpb.files.wordpress.com/2015/03/paellamadeinatl.jpg\n",
      "Fetching: https://realfood.tesco.com/media/images/RFO-1400x919-ClassicPaella-a00aa895-f133-4f2b-a009-d17eb65c34a5-0-1400x919.jpg\n",
      "Fetching: http://viemagazine.com/wp-content/uploads/2017/03/vie-magazine-recipes-hero.jpg\n",
      "Fetching: https://i2.wp.com/cafedelites.com/wp-content/uploads/2018/07/Paella-Spanish-IMAGE-12.jpg?resize=980%2C1470&ssl=1\n",
      "Fetching: https://www.janellapurcell.com/wp-content/uploads/2016/07/paella.jpg\n",
      "Fetching: https://1.bp.blogspot.com/-ZIHvLn9LT10/VMdPe4hV1iI/AAAAAAAAIZs/kzVhmcTdJIc/s1600/The%2BUltimate%2BPaella%2BRecipe2.jpg\n",
      "Fetching: https://www.loveholidays.com/blog/wp-content/uploads/2016/08/Paella-2-1024x672.jpg\n",
      "Fetching: http://2.bp.blogspot.com/_PCFFDNBbwno/SxSzSSsWn4I/AAAAAAAAHwY/9HzJoHCCklk/s1600/paella.jpg\n",
      "Fetching: http://ichef.bbci.co.uk/food/ic/food_16x9_448/recipes/paella_7100_16x9.jpg\n",
      "Fetching: https://www.wholefoodsmarket.com/sites/default/files/media/4450-1.jpg\n",
      "Deleting: output//00000027.jpg\n",
      "Fetching: https://i2.wp.com/cafedelites.com/wp-content/uploads/2018/07/Paella-Spanish-IMAGE-39.jpg?resize=980%2C1470&ssl=1\n",
      "Fetching: http://hipfoodiemom.com/wp-content/uploads/2015/10/seafood-paella_0968.jpg\n",
      "Fetching: https://food.fnr.sndimg.com/content/dam/images/food/fullset/2011/5/20/0/CCTUL104_Ultimate-Paella_s4x3.jpg.rend.hgtvcom.826.620.suffix/1384541152950.jpeg\n",
      "Fetching: https://i.ytimg.com/vi/_xxuY6NO50Y/hqdefault.jpg\n",
      "Fetching: http://4.bp.blogspot.com/-yRT_bA-ddrk/TqUsMBMekiI/AAAAAAAAC_Y/zThhsTDikMs/s1600/paella-valenciana.jpg\n",
      "Fetching: https://i.ytimg.com/vi/Bu01ywrsw6k/hqdefault.jpg\n",
      "Fetching: https://i.ytimg.com/vi/pHG9bAk5TWY/maxresdefault.jpg\n",
      "Fetching: https://i.ytimg.com/vi/IRlXtY3DO2Y/maxresdefault.jpg\n",
      "Fetching: https://img1.cookinglight.timeinc.net/sites/default/files/styles/4_3_horizontal_-_1200x900/public/1516896485/chicken-paella-ck-1803.jpg?itok=mv3QTKp0\n",
      "Fetching: https://upload.wikimedia.org/wikipedia/commons/thumb/e/ed/01_Paella_Valenciana_original.jpg/1200px-01_Paella_Valenciana_original.jpg\n",
      "Fetching: https://i.ytimg.com/vi/G8U2LE5DTbo/maxresdefault.jpg\n",
      "Fetching: https://www.soscuisine.com/media/images/recettes/very_large/1742.jpg?lang=en\n",
      "Fetching: http://blog.williams-sonoma.com/wp-content/uploads/2015/05/JUNE-14_Chicken-and-Chorizo-Paella-with-Roasted-Red-Peppers.jpg\n",
      "Deleting: output//00000039.jpg\n",
      "Fetching: https://1.bp.blogspot.com/-WMxnAJADXZ4/W4WGNKMZyEI/AAAAAAAAhrQ/obM4CX4ivRYH5S51eNjMkKNxQcJhxnnEgCLcBGAs/s1600/paella-valenciana-t.jpg\n",
      "Fetching: https://food.fnr.sndimg.com/content/dam/images/food/fullset/2019/4/17/0/WO1604_Seafood-Paella-with-Orange-Aioli_s4x3.jpg.rend.hgtvcom.826.620.suffix/1555519352847.jpeg\n",
      "Fetching: https://food.fnr.sndimg.com/content/dam/images/food/fullset/2009/6/17/2/FNM080109WE066_s4x3.jpg.rend.hgtvcom.826.620.suffix/1371589386078.jpeg\n",
      "Fetching: https://www.foxandbriar.com/wp-content/uploads/2016/04/Shrimp-and-Chorizo-Paella-7-of-10.jpg\n",
      "Fetching: https://images.tienda.com/is/image/LaTienda/vegetable-paella?&wid=1087&qlt=60\n",
      "Skipping: https://images.tienda.com/is/image/LaTienda/vegetable-paella?&wid=1087&qlt=60\n",
      "Fetching: https://i.ytimg.com/vi/Gtx5RkmSfhw/maxresdefault.jpg\n",
      "Fetching: https://i.ytimg.com/vi/NGhdzIXOI2Y/maxresdefault.jpg\n",
      "Fetching: http://1.bp.blogspot.com/-Do-j822a_c8/UbCA9U552-I/AAAAAAAAAEI/HHE5kxg9VAc/s1600/Summer+paella_630x300.jpg\n",
      "Fetching: http://upload.wikimedia.org/wikipedia/commons/d/d1/Red_paella_with_mussels.jpg\n",
      "Making request for group 50-100 of 100...\n",
      "Saving images for group 50-100 of 100...\n",
      "Fetching: https://i.ytimg.com/vi/G8U2LE5DTbo/maxresdefault.jpg\n",
      "Fetching: https://www.soscuisine.com/media/images/recettes/very_large/1742.jpg?lang=en\n",
      "Fetching: http://blog.williams-sonoma.com/wp-content/uploads/2015/05/JUNE-14_Chicken-and-Chorizo-Paella-with-Roasted-Red-Peppers.jpg\n",
      "Deleting: output//00000049.jpg\n",
      "Fetching: https://1.bp.blogspot.com/-WMxnAJADXZ4/W4WGNKMZyEI/AAAAAAAAhrQ/obM4CX4ivRYH5S51eNjMkKNxQcJhxnnEgCLcBGAs/s1600/paella-valenciana-t.jpg\n",
      "Fetching: https://food.fnr.sndimg.com/content/dam/images/food/fullset/2019/4/17/0/WO1604_Seafood-Paella-with-Orange-Aioli_s4x3.jpg.rend.hgtvcom.826.620.suffix/1555519352847.jpeg\n",
      "Fetching: https://food.fnr.sndimg.com/content/dam/images/food/fullset/2009/6/17/2/FNM080109WE066_s4x3.jpg.rend.hgtvcom.826.620.suffix/1371589386078.jpeg\n",
      "Fetching: https://www.foxandbriar.com/wp-content/uploads/2016/04/Shrimp-and-Chorizo-Paella-7-of-10.jpg\n",
      "Fetching: https://images.tienda.com/is/image/LaTienda/vegetable-paella?&wid=1087&qlt=60\n",
      "Skipping: https://images.tienda.com/is/image/LaTienda/vegetable-paella?&wid=1087&qlt=60\n",
      "Fetching: https://i.ytimg.com/vi/Gtx5RkmSfhw/maxresdefault.jpg\n",
      "Fetching: https://i.ytimg.com/vi/NGhdzIXOI2Y/maxresdefault.jpg\n",
      "Fetching: http://1.bp.blogspot.com/-Do-j822a_c8/UbCA9U552-I/AAAAAAAAAEI/HHE5kxg9VAc/s1600/Summer+paella_630x300.jpg\n",
      "Fetching: http://upload.wikimedia.org/wikipedia/commons/d/d1/Red_paella_with_mussels.jpg\n",
      "Fetching: https://simple-veganista.com/wp-content/uploads/2016/01/vegetable-paella-1.jpg\n",
      "Fetching: https://purewows3.imgix.net/images/articles/2019_01/Cheater_s_Skillet_Paella_Recipe.jpg?auto=format,compress&cs=strip\n",
      "Fetching: https://hipfoodiemom.com/wp-content/uploads/2015/11/IMG_3419.jpg\n",
      "Fetching: http://www.bringingupbrits.co.uk/blog/wp-content/uploads/2012/03/paella-large.jpg\n",
      "Fetching: https://i.ytimg.com/vi/lnNipKQnWMg/hqdefault.jpg\n",
      "Fetching: https://i.ytimg.com/vi/fVZaSU3qkA0/maxresdefault.jpg\n",
      "Fetching: http://cdn-image.foodandwine.com/sites/default/files/200612-r-xl-sardinian-style-paella.jpg\n",
      "Fetching: http://afterorangecounty.com/wp-content/uploads/2013/12/Paella4.jpg\n",
      "Fetching: https://back2spain.files.wordpress.com/2015/08/paella.jpg\n",
      "Fetching: http://ciaoflorentina.com/wp-content/uploads/2015/07/Spanish-Healthy-Paella-Recipe-3.jpg\n",
      "Fetching: http://www.laaloosh.com/wp-content/uploads/2014/07/shrimp-and-quinoa-paella.jpg\n",
      "Fetching: https://crunchybottoms.files.wordpress.com/2010/01/dsc_0231e-copy.jpg\n",
      "Fetching: https://hearteningjourneys.files.wordpress.com/2016/01/traditional-spanish-dish-paella.jpg\n"
     ]
    },
    {
     "name": "stdout",
     "output_type": "stream",
     "text": [
      "Fetching: http://3.bp.blogspot.com/-otyIaXXN4BU/U1j1aaGTPLI/AAAAAAAAAVE/eMlMjinRXM8/s1600/paella4.jpg\n",
      "Fetching: http://cdn.shopify.com/s/files/1/0654/1551/files/SeafoodPaella_1024x1024.jpg?7856200432557518239\n",
      "Fetching: http://1.bp.blogspot.com/-Jga_g7ynRR4/TxKuVpBiiwI/AAAAAAAAA_0/0BSSXx9WRmA/s1600/Leftbanker-Mi+Paella.jpeg\n",
      "Fetching: https://i.ytimg.com/vi/DQGSkkDpFB0/maxresdefault.jpg\n",
      "Fetching: https://media.blueapron.com/recipes/2456/square_newsletter_images/1500659446-8-0012-2411/821_FPV_Veg-Paella_74289_WEB_SQ_hi_res.jpg\n",
      "Fetching: http://www.bbcgoodfood.com/sites/default/files/styles/recipe/public/recipe/recipe-image/2018/06/paella.jpg?itok=7-8NZbQE\n",
      "Deleting: output//00000075.jpg?itok=7-8NZbQE\n",
      "Fetching: https://upload.wikimedia.org/wikipedia/commons/thumb/1/1e/Paella_de_mariscos.jpg/1200px-Paella_de_mariscos.jpg\n",
      "Fetching: https://2.bp.blogspot.com/_E9gfBDmEIws/S-CNZb3yTKI/AAAAAAAAAY8/p9Bs8b6KA_s/s1600/IMG_0182.JPG\n",
      "Fetching: https://hipfoodiemom.com/wp-content/uploads/2015/10/IMG_0976.jpg\n",
      "Fetching: http://graphics8.nytimes.com/images/2013/07/17/dining/17GRILLING_SPAN/17GRILLING-articleLarge.jpg\n",
      "Fetching: http://hipfoodiemom.com/wp-content/uploads/2015/10/seafood-paella_horizontal_0967.jpg\n",
      "Fetching: https://findingmyinnerchef.files.wordpress.com/2013/05/paella.jpg\n",
      "Fetching: https://www.bbcgoodfood.com/sites/default/files/paella_0.jpg\n",
      "Deleting: output//00000081.jpg\n",
      "Fetching: http://i.ytimg.com/vi/fuvX3-w13CY/maxresdefault.jpg\n",
      "Fetching: http://www.chicvegan.com/wp-content/uploads/2014/12/Vegetable_Paella.jpg\n",
      "Fetching: https://dlife.com/wp-content/uploads/2018/12/Quinoa_Seafood_Paella.jpg\n",
      "Fetching: http://1.bp.blogspot.com/-jOrYkSnaYK8/UXGCxi6FohI/AAAAAAAACUo/Du-ApZ1IbK0/s1600/Real_Paella.jpg\n",
      "Fetching: https://food.fnr.sndimg.com/content/dam/images/food/fullset/2015/10/26/1/GI1810H_Pork-and-Chicken-Paella-Verde_s4x3.jpg.rend.hgtvcom.826.620.suffix/1448250093833.jpeg\n",
      "Fetching: https://i.ytimg.com/vi/gJKzl2LMcgM/maxresdefault.jpg\n",
      "Fetching: https://1.bp.blogspot.com/-rSA1rLF6m-g/WHqq7wvn6kI/AAAAAAAAmQE/RLZbn7kQz0QoqF_GAwJ-ztcsBoTczFMGQCLcB/s1600/paella_valenciana.jpg\n",
      "Fetching: https://i.ytimg.com/vi/_UvE5g8oD3U/maxresdefault.jpg\n",
      "Fetching: https://historichostess.files.wordpress.com/2011/10/seafood-paella-1.jpg\n",
      "Fetching: https://img.taste.com.au/khmxuX4n/w720-h480-cfill-q80/taste/2017/03/onepan-prawn-chor-paella-125252-1.jpg\n",
      "Fetching: https://i.ytimg.com/vi/mRf40RbDwy4/maxresdefault.jpg\n",
      "Fetching: http://parksandresorts.wdpromedia.com/media/disneyparks/blog/wp-content/uploads/2014/06/DSP706531.jpg\n"
     ]
    }
   ],
   "source": [
    "# Initialize the total number of images downloaded thus far\n",
    "total = 0\n",
    "\n",
    "# Loop over the estimated number of results in `GROUP_SIZE` groups\n",
    "for offset in range(0, estNumResults, GROUP_SIZE):\n",
    "    # Update the search parameters using the current offset, then\n",
    "    # make the request to fetch the results\n",
    "    print(\"Making request for group {}-{} of {}...\".format(offset, offset + GROUP_SIZE, estNumResults))\n",
    "    params[\"offset\"] = offset\n",
    "    search = requests.get(URL, headers=headers, params=params)\n",
    "    search.raise_for_status()\n",
    "    results = search.json()\n",
    "    print(\"Saving images for group {}-{} of {}...\".format(offset, offset + GROUP_SIZE, estNumResults))\n",
    "    \n",
    "    # Loop over the results\n",
    "    for v in results[\"value\"]:\n",
    "        # Try to download the image\n",
    "        try:\n",
    "            # Make a request to download the image\n",
    "            print(\"Fetching: {}\".format(v[\"contentUrl\"]))\n",
    "            r = requests.get(v[\"contentUrl\"], timeout=30)\n",
    "            \n",
    "            # Build the path to the output image\n",
    "            ext = v[\"contentUrl\"][v[\"contentUrl\"].rfind(\".\"):]\n",
    "            p = os.path.sep.join([output_path, \"{}{}\".format(str(total).zfill(8), ext)])\n",
    "            \n",
    "            # Write the image to disk\n",
    "            f = open(p, \"wb\")\n",
    "            f.write(r.content)\n",
    "            f.close()\n",
    "            \n",
    "        # Catch any errors that would not unable us to download the image\n",
    "        except Exception as e:\n",
    "            # Check to see if our exception is in our list of exceptions to check for\n",
    "            if type(e) in EXCEPTIONS:\n",
    "                print(\"Skipping: {}\".format(v[\"contentUrl\"]))\n",
    "                continue\n",
    "                \n",
    "        # Try to load the image from disk\n",
    "        image = cv2.imread(p)\n",
    "        \n",
    "        # If the image is `None` then we could not properly load the\n",
    "        # image from disk (so it should be ignored)\n",
    "        if image is None:\n",
    "            print(\"Deleting: {}\".format(p))\n",
    "            os.remove(p)\n",
    "            continue\n",
    "        \n",
    "        # Update the counter\n",
    "        total += 1"
   ]
  }
 ],
 "metadata": {
  "kernelspec": {
   "display_name": "Python 3",
   "language": "python",
   "name": "python3"
  },
  "language_info": {
   "codemirror_mode": {
    "name": "ipython",
    "version": 3
   },
   "file_extension": ".py",
   "mimetype": "text/x-python",
   "name": "python",
   "nbconvert_exporter": "python",
   "pygments_lexer": "ipython3",
   "version": "3.6.9"
  }
 },
 "nbformat": 4,
 "nbformat_minor": 4
}
