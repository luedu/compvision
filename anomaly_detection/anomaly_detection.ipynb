{
 "cells": [
  {
   "cell_type": "markdown",
   "metadata": {},
   "source": [
    "# Anomaly detection with Keras, TensorFlow, and Deep Learning\n",
    "https://www.pyimagesearch.com/2020/03/02/anomaly-detection-with-keras-tensorflow-and-deep-learning/"
   ]
  },
  {
   "cell_type": "code",
   "execution_count": 1,
   "metadata": {},
   "outputs": [],
   "source": [
    "from tensorflow.keras.layers import BatchNormalization\n",
    "from tensorflow.keras.layers import Conv2D\n",
    "from tensorflow.keras.layers import Conv2DTranspose\n",
    "from tensorflow.keras.layers import LeakyReLU\n",
    "from tensorflow.keras.layers import Activation\n",
    "from tensorflow.keras.layers import Flatten\n",
    "from tensorflow.keras.layers import Dense\n",
    "from tensorflow.keras.layers import Reshape\n",
    "from tensorflow.keras.layers import Input\n",
    "from tensorflow.keras.models import Model\n",
    "from tensorflow.keras.models import load_model\n",
    "from tensorflow.keras import backend as K\n",
    "import numpy as np\n",
    "from tensorflow.keras.optimizers import Adam\n",
    "from tensorflow.keras.datasets import mnist\n",
    "from sklearn.model_selection import train_test_split\n",
    "import matplotlib.pyplot as plt\n",
    "import random\n",
    "import pickle\n",
    "import cv2"
   ]
  },
  {
   "cell_type": "markdown",
   "metadata": {},
   "source": [
    "## Autoencoder implementation"
   ]
  },
  {
   "cell_type": "code",
   "execution_count": 2,
   "metadata": {},
   "outputs": [],
   "source": [
    "class ConvAutoencoder:\n",
    "    @staticmethod\n",
    "    def build(width, height, depth, filters=(32, 64), latentDim=16):\n",
    "        # Initialize the input shape to be \"channels last\" along with\n",
    "        # the channels dimension itself\n",
    "        inputShape = (height, width, depth)\n",
    "        chanDim = -1\n",
    "        \n",
    "        # Define the input to the encoder\n",
    "        inputs = Input(shape=inputShape)\n",
    "        x = inputs\n",
    "        \n",
    "        # Loop over the number of filters\n",
    "        for f in filters:\n",
    "            # Apply a CONV => Leaky ReLU => BN operation\n",
    "            x = Conv2D(f, (3, 3), strides=2, padding=\"same\")(x)\n",
    "            x = LeakyReLU(alpha=0.2)(x)\n",
    "            x = BatchNormalization(axis=chanDim)(x)\n",
    "            \n",
    "        # Flatten the network and then construct our latent vector\n",
    "        volumeSize = K.int_shape(x)\n",
    "        x = Flatten()(x)\n",
    "        latent = Dense(latentDim)(x)\n",
    "        \n",
    "        # Build the encoder model\n",
    "        encoder = Model(inputs, latent, name=\"encoder\")\n",
    "        \n",
    "        # Start building the decoder model which will accept the\n",
    "        # output of the encoder as its inputs\n",
    "        latentInputs = Input(shape=(latentDim,))\n",
    "        x = Dense(np.prod(volumeSize[1:]))(latentInputs)\n",
    "        x = Reshape((volumeSize[1], volumeSize[2], volumeSize[3]))(x)\n",
    "        \n",
    "        # Loop over our number of filters again, but this time in reverse order\n",
    "        for f in filters[::-1]:\n",
    "            # Apply a CONV_TRANSPOSE => Leaky ReLU => BN operation\n",
    "            x = Conv2DTranspose(f, (3, 3), strides=2, padding=\"same\")(x)\n",
    "            x = LeakyReLU(alpha=0.2)(x)\n",
    "            x = BatchNormalization(axis=chanDim)(x)\n",
    "            \n",
    "        # Apply a single CONV_TRANSPOSE layer used to recover the\n",
    "        # original depth of the image\n",
    "        x = Conv2DTranspose(depth, (3, 3), padding=\"same\")(x)\n",
    "        outputs = Activation(\"sigmoid\")(x)\n",
    "        \n",
    "        # Build the decoder model\n",
    "        decoder = Model(latentInputs, outputs, name=\"decoder\")\n",
    "        \n",
    "        # Our autoencoder is the encoder + decoder\n",
    "        autoencoder = Model(inputs, decoder(encoder(inputs)), name=\"autoencoder\")\n",
    "        \n",
    "        # Return a 3-tuple of the encoder, decoder, and autoencoder\n",
    "        return (encoder, decoder, autoencoder)"
   ]
  },
  {
   "cell_type": "markdown",
   "metadata": {},
   "source": [
    "## Function definition"
   ]
  },
  {
   "cell_type": "code",
   "execution_count": 3,
   "metadata": {},
   "outputs": [],
   "source": [
    "def build_unsupervised_dataset(data, labels, validLabel=1, anomalyLabel=3, contam=0.01, seed=42):\n",
    "    # Grab all indexes of the supplied class label that are *truly*\n",
    "    # that particular label, then grab the indexes of the image\n",
    "    # labels that will serve as our \"anomalies\"\n",
    "    validIdxs = np.where(labels == validLabel)[0]\n",
    "    anomalyIdxs = np.where(labels == anomalyLabel)[0]\n",
    "    \n",
    "    # Randomly shuffle both sets of indexes\n",
    "    random.shuffle(validIdxs)\n",
    "    random.shuffle(anomalyIdxs)\n",
    "    \n",
    "    # Compute the total number of anomaly data points to select\n",
    "    i = int(len(validIdxs) * contam)\n",
    "    anomalyIdxs = anomalyIdxs[:i]\n",
    "    \n",
    "    # Use NumPy array indexing to extract both the valid images and \"anomaly\" images\n",
    "    validImages = data[validIdxs]\n",
    "    anomalyImages = data[anomalyIdxs]\n",
    "    \n",
    "    # Stack the valid images and anomaly images together to form a\n",
    "    # single data matrix and then shuffle the rows\n",
    "    images = np.vstack([validImages, anomalyImages])\n",
    "    np.random.seed(seed)\n",
    "    np.random.shuffle(images)\n",
    "    \n",
    "    # Return the set of images\n",
    "    return images\n",
    "\n",
    "\n",
    "def visualize_predictions(decoded, gt, samples=10):\n",
    "    # Initialize our list of output images\n",
    "    outputs = None\n",
    "    \n",
    "    # Loop over our number of output samples\n",
    "    for i in range(0, samples):\n",
    "        # Grab the original image and reconstructed image\n",
    "        original = (gt[i] * 255).astype(\"uint8\")\n",
    "        recon = (decoded[i] * 255).astype(\"uint8\")\n",
    "        \n",
    "        # Stack the original and reconstructed image side-by-side\n",
    "        output = np.hstack([original, recon])\n",
    "        \n",
    "        # If the outputs array is empty, initialize it as the current\n",
    "        # side-by-side image display\n",
    "        if outputs is None:\n",
    "            outputs = output\n",
    "            \n",
    "        # Otherwise, vertically stack the outputs\n",
    "        else:\n",
    "            outputs = np.vstack([outputs, output])\n",
    "            \n",
    "    # Return the output images\n",
    "    return outputs"
   ]
  },
  {
   "cell_type": "markdown",
   "metadata": {},
   "source": [
    "## Settings"
   ]
  },
  {
   "cell_type": "code",
   "execution_count": 4,
   "metadata": {},
   "outputs": [],
   "source": [
    "dataset_path = 'output/images.pickle' # Path to output dataset file\n",
    "model_path = 'output/autoencoder.model' # Path to output trained autoencoder\n",
    "quantile = 0.999  # q-th quantile used to identify outliers\n",
    "\n",
    "# Initialize the number of epochs to train for, initial learning rate, and batch size\n",
    "EPOCHS = 20\n",
    "INIT_LR = 1e-3\n",
    "BS = 32"
   ]
  },
  {
   "cell_type": "markdown",
   "metadata": {},
   "source": [
    "## Training"
   ]
  },
  {
   "cell_type": "code",
   "execution_count": 5,
   "metadata": {},
   "outputs": [],
   "source": [
    "# Load the MNIST dataset\n",
    "((trainX, trainY), (testX, testY)) = mnist.load_data()\n",
    "\n",
    "# Build our unsupervised dataset of images with a small amount of\n",
    "# contamination (i.e., anomalies) added into it\n",
    "images = build_unsupervised_dataset(trainX, trainY, validLabel=1, anomalyLabel=3, contam=0.01)\n",
    "\n",
    "# Add a channel dimension to every image in the dataset, then scale\n",
    "# the pixel intensities to the range [0, 1]\n",
    "images = np.expand_dims(images, axis=-1)\n",
    "images = images.astype(\"float32\") / 255.0\n",
    "\n",
    "# Construct the training and testing split\n",
    "(trainX, testX) = train_test_split(images, test_size=0.2, random_state=42)\n",
    "\n",
    "# Construct our convolutional autoencoder\n",
    "(encoder, decoder, autoencoder) = ConvAutoencoder.build(28, 28, 1)\n",
    "opt = Adam(lr=INIT_LR, decay=INIT_LR / EPOCHS)\n",
    "autoencoder.compile(loss=\"mse\", optimizer=opt)"
   ]
  },
  {
   "cell_type": "code",
   "execution_count": 6,
   "metadata": {},
   "outputs": [
    {
     "name": "stdout",
     "output_type": "stream",
     "text": [
      "Train on 5447 samples, validate on 1362 samples\n",
      "Epoch 1/20\n",
      "5447/5447 [==============================] - 3s 586us/sample - loss: 0.0418 - val_loss: 0.0421\n",
      "Epoch 2/20\n",
      "5447/5447 [==============================] - 3s 509us/sample - loss: 0.0090 - val_loss: 0.0292\n",
      "Epoch 3/20\n",
      "5447/5447 [==============================] - 3s 517us/sample - loss: 0.0041 - val_loss: 0.0094\n",
      "Epoch 4/20\n",
      "5447/5447 [==============================] - 3s 531us/sample - loss: 0.0033 - val_loss: 0.0030\n",
      "Epoch 5/20\n",
      "5447/5447 [==============================] - 3s 546us/sample - loss: 0.0028 - val_loss: 0.0027\n",
      "Epoch 6/20\n",
      "5447/5447 [==============================] - 3s 571us/sample - loss: 0.0027 - val_loss: 0.0024\n",
      "Epoch 7/20\n",
      "5447/5447 [==============================] - 3s 616us/sample - loss: 0.0025 - val_loss: 0.0025\n",
      "Epoch 8/20\n",
      "5447/5447 [==============================] - 3s 609us/sample - loss: 0.0024 - val_loss: 0.0024\n",
      "Epoch 9/20\n",
      "5447/5447 [==============================] - 4s 643us/sample - loss: 0.0022 - val_loss: 0.0023\n",
      "Epoch 10/20\n",
      "5447/5447 [==============================] - 4s 658us/sample - loss: 0.0021 - val_loss: 0.0022\n",
      "Epoch 11/20\n",
      "5447/5447 [==============================] - 3s 630us/sample - loss: 0.0021 - val_loss: 0.0022\n",
      "Epoch 12/20\n",
      "5447/5447 [==============================] - 3s 614us/sample - loss: 0.0020 - val_loss: 0.0023\n",
      "Epoch 13/20\n",
      "5447/5447 [==============================] - 3s 607us/sample - loss: 0.0020 - val_loss: 0.0024\n",
      "Epoch 14/20\n",
      "5447/5447 [==============================] - 3s 607us/sample - loss: 0.0018 - val_loss: 0.0021\n",
      "Epoch 15/20\n",
      "5447/5447 [==============================] - 3s 603us/sample - loss: 0.0018 - val_loss: 0.0021\n",
      "Epoch 16/20\n",
      "5447/5447 [==============================] - 3s 608us/sample - loss: 0.0018 - val_loss: 0.0022\n",
      "Epoch 17/20\n",
      "5447/5447 [==============================] - 3s 611us/sample - loss: 0.0018 - val_loss: 0.0021\n",
      "Epoch 18/20\n",
      "5447/5447 [==============================] - 3s 609us/sample - loss: 0.0017 - val_loss: 0.0022\n",
      "Epoch 19/20\n",
      "5447/5447 [==============================] - 3s 595us/sample - loss: 0.0017 - val_loss: 0.0021\n",
      "Epoch 20/20\n",
      "5447/5447 [==============================] - 3s 591us/sample - loss: 0.0017 - val_loss: 0.0022\n"
     ]
    }
   ],
   "source": [
    "# Train the convolutional autoencoder\n",
    "H = autoencoder.fit(trainX, trainX, validation_data=(testX, testX), epochs=EPOCHS, batch_size=BS)"
   ]
  },
  {
   "cell_type": "code",
   "execution_count": 7,
   "metadata": {},
   "outputs": [
    {
     "data": {
      "image/png": "[encoded data removed]",
      "text/plain": [
       "<Figure size 432x288 with 1 Axes>"
      ]
     },
     "metadata": {},
     "output_type": "display_data"
    }
   ],
   "source": [
    "# Construct a plot that plots the training history\n",
    "N = np.arange(0, EPOCHS)\n",
    "plt.style.use(\"ggplot\")\n",
    "plt.figure()\n",
    "plt.plot(N, H.history[\"loss\"], label=\"train_loss\")\n",
    "plt.plot(N, H.history[\"val_loss\"], label=\"val_loss\")\n",
    "plt.title(\"Training Loss\")\n",
    "plt.xlabel(\"Epoch #\")\n",
    "plt.ylabel(\"Loss\")\n",
    "plt.legend(loc=\"upper right\")\n",
    "\n",
    "# Serialize the image data to disk\n",
    "f = open(dataset_path, \"wb\")\n",
    "f.write(pickle.dumps(images))\n",
    "f.close()\n",
    "\n",
    "# Serialize the autoencoder model to disk\n",
    "autoencoder.save(model_path, save_format=\"h5\")"
   ]
  },
  {
   "cell_type": "markdown",
   "metadata": {},
   "source": [
    "## Visualize performance"
   ]
  },
  {
   "cell_type": "code",
   "execution_count": 8,
   "metadata": {},
   "outputs": [
    {
     "data": {
      "text/plain": [
       "(-0.5, 55.5, 279.5, -0.5)"
      ]
     },
     "execution_count": 8,
     "metadata": {},
     "output_type": "execute_result"
    },
    {
     "data": {
      "image/png": "[encoded data removed]",
      "text/plain": [
       "<Figure size 720x720 with 1 Axes>"
      ]
     },
     "metadata": {},
     "output_type": "display_data"
    }
   ],
   "source": [
    "# Use the convolutional autoencoder to make predictions on the testing images,\n",
    "# construct the visualization and display it\n",
    "decoded = autoencoder.predict(testX)\n",
    "vis = visualize_predictions(decoded, testX)\n",
    "plt.figure(figsize=(10, 10))\n",
    "plt.imshow(vis[..., 0], cmap='gray')\n",
    "plt.axis('off')"
   ]
  },
  {
   "cell_type": "markdown",
   "metadata": {},
   "source": [
    "## Find anomalies"
   ]
  },
  {
   "cell_type": "code",
   "execution_count": 9,
   "metadata": {},
   "outputs": [
    {
     "name": "stdout",
     "output_type": "stream",
     "text": [
      "MSE threshold: 0.025927889913320557\n",
      "7 outliers found\n"
     ]
    }
   ],
   "source": [
    "# Load the model and image data from disk\n",
    "autoencoder = load_model(model_path)\n",
    "images = pickle.loads(open(dataset_path, \"rb\").read())\n",
    "\n",
    "# Make predictions on our image data and initialize our list of reconstruction errors\n",
    "decoded = autoencoder.predict(images)\n",
    "errors = []\n",
    "\n",
    "# Loop over all original images and their corresponding reconstructions\n",
    "for (image, recon) in zip(images, decoded):\n",
    "    # Compute the mean squared error between the ground-truth image\n",
    "    # and the reconstructed image, then add it to our list of errors\n",
    "    mse = np.mean((image - recon) ** 2)\n",
    "    errors.append(mse)\n",
    "    \n",
    "# Compute the q-th quantile of the errors which serves as our\n",
    "# threshold to identify anomalies -- any data point that our model\n",
    "# reconstructed with > threshold error will be marked as an outlier\n",
    "thresh = np.quantile(errors, quantile)\n",
    "idxs = np.where(np.array(errors) >= thresh)[0]\n",
    "print(\"MSE threshold: {}\".format(thresh))\n",
    "print(\"{} outliers found\".format(len(idxs)))"
   ]
  },
  {
   "cell_type": "code",
   "execution_count": 10,
   "metadata": {},
   "outputs": [
    {
     "data": {
      "text/plain": [
       "(-0.5, 55.5, 195.5, -0.5)"
      ]
     },
     "execution_count": 10,
     "metadata": {},
     "output_type": "execute_result"
    },
    {
     "data": {
      "image/png": "[encoded data removed]",
      "text/plain": [
       "<Figure size 720x720 with 1 Axes>"
      ]
     },
     "metadata": {},
     "output_type": "display_data"
    }
   ],
   "source": [
    "# Initialize the outputs array\n",
    "outputs = None\n",
    "\n",
    "# Loop over the indexes of images with a high mean squared error term\n",
    "for i in idxs:\n",
    "    # Grab the original image and reconstructed image\n",
    "    original = (images[i] * 255).astype(\"uint8\")\n",
    "    recon = (decoded[i] * 255).astype(\"uint8\")\n",
    "    \n",
    "    # Stack the original and reconstructed image side-by-side\n",
    "    output = np.hstack([original, recon])\n",
    "    \n",
    "    # If the outputs array is empty, initialize it as the current\n",
    "    # side-by-side image display\n",
    "    if outputs is None:\n",
    "        outputs = output\n",
    "        \n",
    "    # Otherwise, vertically stack the outputs\n",
    "    else:\n",
    "        outputs = np.vstack([outputs, output])\n",
    "        \n",
    "# Show the output visualization\n",
    "plt.figure(figsize=(10, 10))\n",
    "plt.imshow(outputs[..., 0], cmap='gray')\n",
    "plt.axis('off')"
   ]
  }
 ],
 "metadata": {
  "kernelspec": {
   "display_name": "Python 3",
   "language": "python",
   "name": "python3"
  },
  "language_info": {
   "codemirror_mode": {
    "name": "ipython",
    "version": 3
   },
   "file_extension": ".py",
   "mimetype": "text/x-python",
   "name": "python",
   "nbconvert_exporter": "python",
   "pygments_lexer": "ipython3",
   "version": "3.6.9"
  }
 },
 "nbformat": 4,
 "nbformat_minor": 4
}
