{
 "cells": [
  {
   "cell_type": "markdown",
   "metadata": {},
   "source": [
    "# Ball tracking\n",
    "https://www.pyimagesearch.com/2015/09/14/ball-tracking-with-opencv/"
   ]
  },
  {
   "cell_type": "code",
   "execution_count": 1,
   "metadata": {},
   "outputs": [],
   "source": [
    "from collections import deque\n",
    "from imutils.video import VideoStream\n",
    "import numpy as np\n",
    "import cv2\n",
    "import imutils\n",
    "import time\n",
    "import matplotlib.pyplot as plt"
   ]
  },
  {
   "cell_type": "markdown",
   "metadata": {},
   "source": [
    "## Configuration"
   ]
  },
  {
   "cell_type": "code",
   "execution_count": 2,
   "metadata": {},
   "outputs": [],
   "source": [
    "video_path = \"videos/ball_tracking_example.mp4\"\n",
    "buffer_size = 64\n",
    "\n",
    "# Define the lower and upper boundaries of the \"green\" ball in the HSV color space,\n",
    "# then initialize the list of tracked points\n",
    "greenLower = (29, 86, 6)\n",
    "greenUpper = (64, 255, 255)\n",
    "pts = deque(maxlen=buffer_size)\n",
    "\n",
    "# Grab a reference to the video file\n",
    "vs = cv2.VideoCapture(video_path)\n",
    "\n",
    "# Allow the camera or video file to warm up\n",
    "time.sleep(2.0)"
   ]
  },
  {
   "cell_type": "markdown",
   "metadata": {},
   "source": [
    "## Process video"
   ]
  },
  {
   "cell_type": "code",
   "execution_count": 3,
   "metadata": {},
   "outputs": [],
   "source": [
    "# Keep looping\n",
    "while True:\n",
    "    # Grab the current frame\n",
    "    frame = vs.read()[1]\n",
    "    \n",
    "    # If we are viewing a video and we did not grab a frame,\n",
    "    # then we have reached the end of the video\n",
    "    if frame is None:\n",
    "        break\n",
    "        \n",
    "    # Resize the frame, blur it, and convert it to the HSV color space\n",
    "    frame = imutils.resize(frame, width=600)\n",
    "    blurred = cv2.GaussianBlur(frame, (11, 11), 0)\n",
    "    hsv = cv2.cvtColor(blurred, cv2.COLOR_BGR2HSV)\n",
    "    \n",
    "    # Construct a mask for the color \"green\", then perform a series of\n",
    "    # dilations and erosions to remove any small blobs left in the mask\n",
    "    mask = cv2.inRange(hsv, greenLower, greenUpper)\n",
    "    mask = cv2.erode(mask, None, iterations=2)\n",
    "    mask = cv2.dilate(mask, None, iterations=2)\n",
    "    \n",
    "    # Find contours in the mask and initialize the current (x, y) center of the ball\n",
    "    cnts = cv2.findContours(mask.copy(), cv2.RETR_EXTERNAL, cv2.CHAIN_APPROX_SIMPLE)\n",
    "    cnts = imutils.grab_contours(cnts)\n",
    "    center = None\n",
    "    \n",
    "    # Only proceed if at least one contour was found\n",
    "    if len(cnts) > 0:\n",
    "        # Find the largest contour in the mask, then use it to compute\n",
    "        # the minimum enclosing circle and centroid\n",
    "        c = max(cnts, key=cv2.contourArea)\n",
    "        ((x, y), radius) = cv2.minEnclosingCircle(c)\n",
    "        M = cv2.moments(c)\n",
    "        center = (int(M[\"m10\"] / M[\"m00\"]), int(M[\"m01\"] / M[\"m00\"]))\n",
    "        \n",
    "        # Only proceed if the radius meets a minimum size\n",
    "        if radius > 10:\n",
    "            # Draw the circle and centroid on the frame, then update the list of tracked points\n",
    "            cv2.circle(frame, (int(x), int(y)), int(radius), (0, 255, 255), 2)\n",
    "            cv2.circle(frame, center, 5, (0, 0, 255), -1)\n",
    "        \n",
    "        # Update the points queue\n",
    "        pts.appendleft(center)\n",
    "        \n",
    "    # Loop over the set of tracked points\n",
    "    for i in range(1, len(pts)):\n",
    "        # If either of the tracked points are None, ignore them\n",
    "        if pts[i - 1] is None or pts[i] is None:\n",
    "            continue\n",
    "            \n",
    "        # Otherwise, compute the thickness of the line and draw the connecting lines\n",
    "        thickness = int(np.sqrt(buffer_size / float(i + 1)) * 2.5)  # Thicker for closer locations\n",
    "        cv2.line(frame, pts[i - 1], pts[i], (0, 0, 255), thickness)\n",
    "        \n",
    "    # Show the frame to our screen\n",
    "    cv2.imshow(\"Frame\", frame)\n",
    "    key = cv2.waitKey(1) & 0xFF\n",
    "\n",
    "    # If the 'q' key is pressed, stop the loop\n",
    "    if key == ord(\"q\"):\n",
    "        break\n",
    "\n",
    "vs.release()\n",
    "cv2.destroyAllWindows()"
   ]
  }
 ],
 "metadata": {
  "kernelspec": {
   "display_name": "Python 3",
   "language": "python",
   "name": "python3"
  },
  "language_info": {
   "codemirror_mode": {
    "name": "ipython",
    "version": 3
   },
   "file_extension": ".py",
   "mimetype": "text/x-python",
   "name": "python",
   "nbconvert_exporter": "python",
   "pygments_lexer": "ipython3",
   "version": "3.6.9"
  }
 },
 "nbformat": 4,
 "nbformat_minor": 4
}
